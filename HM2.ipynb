{
 "cells": [
  {
   "cell_type": "markdown",
   "metadata": {},
   "source": [
    "# HM2: Numerical Optimization for Logistic Regression.\n",
    "\n",
    "### Name: [Hai Huang]\n"
   ]
  },
  {
   "cell_type": "markdown",
   "metadata": {},
   "source": [
    "## 0. You will do the following:\n",
    "\n",
    "1. Read the lecture note: [click here](https://github.com/wangshusen/DeepLearning/blob/master/LectureNotes/Logistic/paper/logistic.pdf)\n",
    "\n",
    "2. Read, complete, and run my code.\n",
    "\n",
    "3. **Implement mini-batch SGD** and evaluate the performance.\n",
    "\n",
    "4. Convert the .IPYNB file to .HTML file.\n",
    "\n",
    "    * The HTML file must contain **the code** and **the output after execution**.\n",
    "    \n",
    "    * Missing **the output after execution** will not be graded.\n",
    "    \n",
    "5. Upload this .HTML file to your Google Drive, Dropbox, or your Github repo.  (If you submit the file to Google Drive or Dropbox, you must make the file \"open-access\". The delay caused by \"deny of access\" may result in late penalty.)\n",
    "\n",
    "6. Submit the link to this .HTML file to Canvas.\n",
    "\n",
    "    * Example: https://github.com/wangshusen/CS583-2020S/blob/master/homework/HM2/HM2.html\n",
    "\n",
    "\n",
    "## Grading criteria:\n",
    "\n",
    "1. When computing the ```gradient``` and ```objective function value``` using a batch of samples, use **matrix-vector multiplication** rather than a FOR LOOP of **vector-vector multiplications**.\n",
    "\n",
    "2. Plot ```objective function value``` against ```epochs```. In the plot, compare GD, SGD, and MB-SGD (with $b=8$ and $b=64$). The plot must look reasonable."
   ]
  },
  {
   "cell_type": "code",
   "execution_count": null,
   "metadata": {},
   "outputs": [],
   "source": []
  },
  {
   "cell_type": "markdown",
   "metadata": {},
   "source": [
    "# 1. Data processing\n",
    "\n",
    "- Download the Diabete dataset from https://www.csie.ntu.edu.tw/~cjlin/libsvmtools/datasets/binary/diabetes\n",
    "- Load the data using sklearn.\n",
    "- Preprocess the data."
   ]
  },
  {
   "cell_type": "markdown",
   "metadata": {},
   "source": [
    "## 1.1. Load the data"
   ]
  },
  {
   "cell_type": "code",
   "execution_count": 1,
   "metadata": {},
   "outputs": [
    {
     "name": "stdout",
     "output_type": "stream",
     "text": [
      "Shape of x: (768, 8)\n",
      "Shape of y: (768,)\n"
     ]
    }
   ],
   "source": [
    "from sklearn import datasets\n",
    "import numpy\n",
    "\n",
    "x_sparse, y = datasets.load_svmlight_file('diabetes')\n",
    "x = x_sparse.todense()\n",
    "\n",
    "print('Shape of x: ' + str(x.shape))\n",
    "print('Shape of y: ' + str(y.shape))"
   ]
  },
  {
   "cell_type": "markdown",
   "metadata": {},
   "source": [
    "## 1.2. Partition to training and test sets"
   ]
  },
  {
   "cell_type": "code",
   "execution_count": 2,
   "metadata": {},
   "outputs": [
    {
     "name": "stdout",
     "output_type": "stream",
     "text": [
      "Shape of x_train: (640, 8)\n",
      "Shape of x_test: (128, 8)\n",
      "Shape of y_train: (640, 1)\n",
      "Shape of y_test: (128, 1)\n"
     ]
    }
   ],
   "source": [
    "# partition the data to training and test sets\n",
    "n = x.shape[0]\n",
    "n_train = 640\n",
    "n_test = n - n_train\n",
    "\n",
    "rand_indices = numpy.random.permutation(n)\n",
    "train_indices = rand_indices[0:n_train]\n",
    "test_indices = rand_indices[n_train:n]\n",
    "\n",
    "x_train = x[train_indices, :]\n",
    "x_test = x[test_indices, :]\n",
    "y_train = y[train_indices].reshape(n_train, 1)\n",
    "y_test = y[test_indices].reshape(n_test, 1)\n",
    "\n",
    "print('Shape of x_train: ' + str(x_train.shape))\n",
    "print('Shape of x_test: ' + str(x_test.shape))\n",
    "print('Shape of y_train: ' + str(y_train.shape))\n",
    "print('Shape of y_test: ' + str(y_test.shape))"
   ]
  },
  {
   "cell_type": "markdown",
   "metadata": {},
   "source": [
    "## 1.3. Feature scaling"
   ]
  },
  {
   "cell_type": "markdown",
   "metadata": {},
   "source": [
    "Use the standardization to trainsform both training and test features"
   ]
  },
  {
   "cell_type": "code",
   "execution_count": 3,
   "metadata": {},
   "outputs": [
    {
     "name": "stdout",
     "output_type": "stream",
     "text": [
      "test mean = \n",
      "[[ 0.11412171 -0.05321605  0.04776084  0.09292114 -0.08198913  0.00887906\n",
      "   0.01759009  0.01127862]]\n",
      "test std = \n",
      "[[1.01764605 0.96104224 1.00171322 0.98399073 0.78639759 1.00977685\n",
      "  0.85314976 0.98815748]]\n"
     ]
    }
   ],
   "source": [
    "# Standardization\n",
    "import numpy\n",
    "\n",
    "# calculate mu and sig using the training set\n",
    "d = x_train.shape[1]\n",
    "mu = numpy.mean(x_train, axis=0).reshape(1, d)\n",
    "sig = numpy.std(x_train, axis=0).reshape(1, d)\n",
    "\n",
    "# transform the training features\n",
    "x_train = (x_train - mu) / (sig + 1E-6)\n",
    "\n",
    "# transform the test features\n",
    "x_test = (x_test - mu) / (sig + 1E-6)\n",
    "\n",
    "print('test mean = ')\n",
    "print(numpy.mean(x_test, axis=0))\n",
    "\n",
    "print('test std = ')\n",
    "print(numpy.std(x_test, axis=0))"
   ]
  },
  {
   "cell_type": "markdown",
   "metadata": {},
   "source": [
    "## 1.4. Add a dimension of all ones"
   ]
  },
  {
   "cell_type": "code",
   "execution_count": 4,
   "metadata": {},
   "outputs": [
    {
     "name": "stdout",
     "output_type": "stream",
     "text": [
      "Shape of x_train: (640, 9)\n",
      "Shape of x_test: (128, 9)\n"
     ]
    }
   ],
   "source": [
    "n_train, d = x_train.shape\n",
    "x_train = numpy.concatenate((x_train, numpy.ones((n_train, 1))), axis=1)\n",
    "\n",
    "n_test, d = x_test.shape\n",
    "x_test = numpy.concatenate((x_test, numpy.ones((n_test, 1))), axis=1)\n",
    "\n",
    "print('Shape of x_train: ' + str(x_train.shape))\n",
    "print('Shape of x_test: ' + str(x_test.shape))"
   ]
  },
  {
   "cell_type": "markdown",
   "metadata": {},
   "source": [
    "# 2. Logistic regression model\n",
    "\n",
    "The objective function is $Q (w; X, y) = \\frac{1}{n} \\sum_{i=1}^n \\log \\Big( 1 + \\exp \\big( - y_i x_i^T w \\big) \\Big) + \\frac{\\lambda}{2} \\| w \\|_2^2 $."
   ]
  },
  {
   "cell_type": "code",
   "execution_count": 5,
   "metadata": {},
   "outputs": [],
   "source": [
    "# Calculate the objective function value\n",
    "# Inputs:\n",
    "#     w: d-by-1 matrix\n",
    "#     x: n-by-d matrix\n",
    "#     y: n-by-1 matrix\n",
    "#     lam: scalar, the regularization parameter\n",
    "# Return:\n",
    "#     objective function value (scalar)\n",
    "def objective(w, x, y, lam):\n",
    "    n, d = x.shape\n",
    "    yx = numpy.multiply(y, x) # n-by-d matrix\n",
    "    yxw = numpy.dot(yx, w) # n-by-1 matrix\n",
    "    vec1 = numpy.exp(-yxw) # n-by-1 matrix\n",
    "    vec2 = numpy.log(1 + vec1) # n-by-1 matrix\n",
    "    loss = numpy.mean(vec2) # scalar\n",
    "    reg = lam / 2 * numpy.sum(w * w) # scalar\n",
    "    return loss + reg\n",
    "    "
   ]
  },
  {
   "cell_type": "code",
   "execution_count": 6,
   "metadata": {},
   "outputs": [
    {
     "name": "stdout",
     "output_type": "stream",
     "text": [
      "Initial objective function value = 0.6931471805599453\n"
     ]
    }
   ],
   "source": [
    "# initialize w\n",
    "d = x_train.shape[1]\n",
    "w = numpy.zeros((d, 1))\n",
    "\n",
    "# evaluate the objective function value at w\n",
    "lam = 1E-6\n",
    "objval0 = objective(w, x_train, y_train, lam)\n",
    "print('Initial objective function value = ' + str(objval0))"
   ]
  },
  {
   "cell_type": "markdown",
   "metadata": {},
   "source": [
    "# 3. Numerical optimization"
   ]
  },
  {
   "cell_type": "markdown",
   "metadata": {},
   "source": [
    "## 3.1. Gradient descent\n"
   ]
  },
  {
   "cell_type": "markdown",
   "metadata": {},
   "source": [
    "The gradient at $w$ is $g = - \\frac{1}{n} \\sum_{i=1}^n \\frac{y_i x_i }{1 + \\exp ( y_i x_i^T w)} + \\lambda w$"
   ]
  },
  {
   "cell_type": "code",
   "execution_count": 7,
   "metadata": {},
   "outputs": [],
   "source": [
    "# Calculate the gradient\n",
    "# Inputs:\n",
    "#     w: d-by-1 matrix\n",
    "#     x: n-by-d matrix\n",
    "#     y: n-by-1 matrix\n",
    "#     lam: scalar, the regularization parameter\n",
    "# Return:\n",
    "#     g: g: d-by-1 matrix, full gradient\n",
    "def gradient(w, x, y, lam):\n",
    "    n, d = x.shape\n",
    "    yx = numpy.multiply(y, x) # n-by-d matrix\n",
    "    yxw = numpy.dot(yx, w) # n-by-1 matrix\n",
    "    vec1 = numpy.exp(yxw) # n-by-1 matrix\n",
    "    vec2 = numpy.divide(yx, 1+vec1) # n-by-d matrix\n",
    "    vec3 = -numpy.mean(vec2, axis=0).reshape(d, 1) # d-by-1 matrix\n",
    "    g = vec3 + lam * w\n",
    "    return g"
   ]
  },
  {
   "cell_type": "code",
   "execution_count": 8,
   "metadata": {},
   "outputs": [],
   "source": [
    "# Gradient descent for solving logistic regression\n",
    "# Inputs:\n",
    "#     x: n-by-d matrix\n",
    "#     y: n-by-1 matrix\n",
    "#     lam: scalar, the regularization parameter\n",
    "#     stepsize: scalar\n",
    "#     max_iter: integer, the maximal iterations\n",
    "#     w: d-by-1 matrix, initialization of w\n",
    "# Return:\n",
    "#     w: d-by-1 matrix, the solution\n",
    "#     objvals: a record of each iteration's objective value\n",
    "def grad_descent(x, y, lam, stepsize, max_iter=100, w=None):\n",
    "    n, d = x.shape\n",
    "    objvals = numpy.zeros(max_iter) # store the objective values\n",
    "    if w is None:\n",
    "        w = numpy.zeros((d, 1)) # zero initialization\n",
    "    \n",
    "    for t in range(max_iter):\n",
    "        objval = objective(w, x, y, lam)\n",
    "        objvals[t] = objval\n",
    "        print('Objective value at t=' + str(t) + ' is ' + str(objval))\n",
    "        g = gradient(w, x, y, lam)\n",
    "        w -= stepsize * g\n",
    "    \n",
    "    return w, objvals"
   ]
  },
  {
   "cell_type": "markdown",
   "metadata": {},
   "source": [
    "Run gradient descent."
   ]
  },
  {
   "cell_type": "code",
   "execution_count": 9,
   "metadata": {},
   "outputs": [
    {
     "name": "stdout",
     "output_type": "stream",
     "text": [
      "Objective value at t=0 is 0.6931471805599453\n",
      "Objective value at t=1 is 0.5927039730326173\n",
      "Objective value at t=2 is 0.5518762175857602\n",
      "Objective value at t=3 is 0.5298788415311717\n",
      "Objective value at t=4 is 0.5161445590655581\n",
      "Objective value at t=5 is 0.5068560005051884\n",
      "Objective value at t=6 is 0.500261283706914\n",
      "Objective value at t=7 is 0.4954238369277197\n",
      "Objective value at t=8 is 0.4917902340330034\n",
      "Objective value at t=9 is 0.4890105012077794\n",
      "Objective value at t=10 is 0.4868524725722541\n",
      "Objective value at t=11 is 0.485156580944377\n",
      "Objective value at t=12 is 0.4838101000201457\n",
      "Objective value at t=13 is 0.48273160415463917\n",
      "Objective value at t=14 is 0.4818611745359155\n",
      "Objective value at t=15 is 0.4811540124981894\n",
      "Objective value at t=16 is 0.48057615815077726\n",
      "Objective value at t=17 is 0.48010155347319006\n",
      "Objective value at t=18 is 0.4797099874878444\n",
      "Objective value at t=19 is 0.479385633469572\n",
      "Objective value at t=20 is 0.47911599142265165\n",
      "Objective value at t=21 is 0.47889111284426616\n",
      "Objective value at t=22 is 0.4787030252078534\n",
      "Objective value at t=23 is 0.47854529976872395\n",
      "Objective value at t=24 is 0.4784127235647148\n",
      "Objective value at t=25 is 0.47830104807758944\n",
      "Objective value at t=26 is 0.4782067949234614\n",
      "Objective value at t=27 is 0.47812710440398404\n",
      "Objective value at t=28 is 0.47805961657687596\n",
      "Objective value at t=29 is 0.47800237721756733\n",
      "Objective value at t=30 is 0.4779537629894263\n",
      "Objective value at t=31 is 0.4779124215502251\n",
      "Objective value at t=32 is 0.47787722335491273\n",
      "Objective value at t=33 is 0.47784722267774504\n",
      "Objective value at t=34 is 0.4778216259457362\n",
      "Objective value at t=35 is 0.4777997659031705\n",
      "Objective value at t=36 is 0.47778108045112333\n",
      "Objective value at t=37 is 0.4777650952534995\n",
      "Objective value at t=38 is 0.47775140939146127\n",
      "Objective value at t=39 is 0.4777396834954852\n",
      "Objective value at t=40 is 0.47772962989907897\n",
      "Objective value at t=41 is 0.47772100444814786\n",
      "Objective value at t=42 is 0.47771359967088045\n",
      "Objective value at t=43 is 0.4777072390691824\n",
      "Objective value at t=44 is 0.47770177233738814\n",
      "Objective value at t=45 is 0.47769707134974193\n",
      "Objective value at t=46 is 0.47769302678686776\n",
      "Objective value at t=47 is 0.47768954529462504\n",
      "Objective value at t=48 is 0.47768654708752206\n",
      "Objective value at t=49 is 0.4776839639241187\n",
      "Objective value at t=50 is 0.4776817373943016\n",
      "Objective value at t=51 is 0.47767981746850535\n",
      "Objective value at t=52 is 0.47767816126731766\n",
      "Objective value at t=53 is 0.477676732016799\n",
      "Objective value at t=54 is 0.47767549816053\n",
      "Objective value at t=55 is 0.47767443260411097\n",
      "Objective value at t=56 is 0.47767351207174763\n",
      "Objective value at t=57 is 0.4776727165577971\n",
      "Objective value at t=58 is 0.4776720288588669\n",
      "Objective value at t=59 is 0.4776714341743144\n",
      "Objective value at t=60 is 0.47767091976488896\n",
      "Objective value at t=61 is 0.4776704746608443\n",
      "Objective value at t=62 is 0.47767008941218203\n",
      "Objective value at t=63 is 0.4776697558748059\n",
      "Objective value at t=64 is 0.47766946702730895\n",
      "Objective value at t=65 is 0.47766921681391517\n",
      "Objective value at t=66 is 0.4776690000097628\n",
      "Objective value at t=67 is 0.4776688121052922\n",
      "Objective value at t=68 is 0.4776686492069746\n",
      "Objective value at t=69 is 0.4776685079520317\n",
      "Objective value at t=70 is 0.47766838543513895\n",
      "Objective value at t=71 is 0.47766827914539955\n",
      "Objective value at t=72 is 0.4776681869121251\n",
      "Objective value at t=73 is 0.47766810685817496\n",
      "Objective value at t=74 is 0.47766803735978053\n",
      "Objective value at t=75 is 0.4776679770119433\n",
      "Objective value at t=76 is 0.47766792459861795\n",
      "Objective value at t=77 is 0.4776678790670121\n",
      "Objective value at t=78 is 0.47766783950542535\n",
      "Objective value at t=79 is 0.47766780512413337\n",
      "Objective value at t=80 is 0.47766777523889214\n",
      "Objective value at t=81 is 0.47766774925670075\n",
      "Objective value at t=82 is 0.47766772666350676\n",
      "Objective value at t=83 is 0.47766770701358835\n",
      "Objective value at t=84 is 0.47766768992037895\n",
      "Objective value at t=85 is 0.4776676750485389\n",
      "Objective value at t=86 is 0.47766766210710027\n",
      "Objective value at t=87 is 0.4776676508435394\n",
      "Objective value at t=88 is 0.47766764103864856\n",
      "Objective value at t=89 is 0.47766763250210026\n",
      "Objective value at t=90 is 0.47766762506860677\n",
      "Objective value at t=91 is 0.4776676185945963\n",
      "Objective value at t=92 is 0.4776676129553344\n",
      "Objective value at t=93 is 0.47766760804243036\n",
      "Objective value at t=94 is 0.4776676037616776\n",
      "Objective value at t=95 is 0.4776676000311813\n",
      "Objective value at t=96 is 0.4776675967797363\n",
      "Objective value at t=97 is 0.4776675939454198\n",
      "Objective value at t=98 is 0.47766759147437193\n",
      "Objective value at t=99 is 0.47766758931973685\n"
     ]
    }
   ],
   "source": [
    "lam = 1E-6\n",
    "stepsize = 1.0\n",
    "w, objvals_gd = grad_descent(x_train, y_train, lam, stepsize)"
   ]
  },
  {
   "cell_type": "markdown",
   "metadata": {},
   "source": [
    "## 3.2. Stochastic gradient descent (SGD)\n",
    "\n",
    "Define $Q_i (w) = \\log \\Big( 1 + \\exp \\big( - y_i x_i^T w \\big) \\Big) + \\frac{\\lambda}{2} \\| w \\|_2^2 $.\n",
    "\n",
    "The stochastic gradient at $w$ is $g_i = \\frac{\\partial Q_i }{ \\partial w} = -\\frac{y_i x_i }{1 + \\exp ( y_i x_i^T w)} + \\lambda w$."
   ]
  },
  {
   "cell_type": "code",
   "execution_count": 10,
   "metadata": {},
   "outputs": [],
   "source": [
    "# Calculate the objective Q_i and the gradient of Q_i\n",
    "# Inputs:\n",
    "#     w: d-by-1 matrix\n",
    "#     xi: 1-by-d matrix\n",
    "#     yi: scalar\n",
    "#     lam: scalar, the regularization parameter\n",
    "# Return:\n",
    "#     obj: scalar, the objective Q_i\n",
    "#     g: d-by-1 matrix, gradient of Q_i\n",
    "def stochastic_objective_gradient(w, xi, yi, lam):\n",
    "    d = xi.shape[0]\n",
    "    yx = yi * xi # 1-by-d matrix\n",
    "    yxw = float(numpy.dot(yx, w)) # scalar\n",
    "    \n",
    "    # calculate objective function Q_i\n",
    "    loss = numpy.log(1 + numpy.exp(-yxw)) # scalar\n",
    "    reg = lam / 2 * numpy.sum(w * w) # scalar\n",
    "    obj = loss + reg\n",
    "    \n",
    "    # calculate stochastic gradient\n",
    "    g_loss = -yx.T / (1 + numpy.exp(yxw)) # d-by-1 matrix\n",
    "    g = g_loss + lam * w # d-by-1 matrix\n",
    "    \n",
    "    return obj, g"
   ]
  },
  {
   "cell_type": "code",
   "execution_count": 11,
   "metadata": {},
   "outputs": [],
   "source": [
    "# SGD for solving logistic regression\n",
    "# Inputs:\n",
    "#     x: n-by-d matrix\n",
    "#     y: n-by-1 matrix\n",
    "#     lam: scalar, the regularization parameter\n",
    "#     stepsize: scalar\n",
    "#     max_epoch: integer, the maximal epochs\n",
    "#     w: d-by-1 matrix, initialization of w\n",
    "# Return:\n",
    "#     w: the solution\n",
    "#     objvals: record of each iteration's objective value\n",
    "def sgd(x, y, lam, stepsize, max_epoch=100, w=None):\n",
    "    n, d = x.shape\n",
    "    objvals = numpy.zeros(max_epoch) # store the objective values\n",
    "    if w is None:\n",
    "        w = numpy.zeros((d, 1)) # zero initialization\n",
    "    \n",
    "    for t in range(max_epoch):\n",
    "        # randomly shuffle the samples\n",
    "        rand_indices = numpy.random.permutation(n)\n",
    "        x_rand = x[rand_indices, :]\n",
    "        y_rand = y[rand_indices, :]\n",
    "        \n",
    "        objval = 0 # accumulate the objective values\n",
    "        for i in range(n):\n",
    "            xi = x_rand[i, :] # 1-by-d matrix\n",
    "            yi = float(y_rand[i, :]) # scalar\n",
    "            obj, g = stochastic_objective_gradient(w, xi, yi, lam)\n",
    "            objval += obj\n",
    "            w -= stepsize * g\n",
    "        \n",
    "        stepsize *= 0.9 # decrease step size\n",
    "        objval /= n\n",
    "        objvals[t] = objval\n",
    "        print('Objective value at epoch t=' + str(t) + ' is ' + str(objval))\n",
    "    \n",
    "    return w, objvals"
   ]
  },
  {
   "cell_type": "markdown",
   "metadata": {},
   "source": [
    "Run SGD."
   ]
  },
  {
   "cell_type": "code",
   "execution_count": 12,
   "metadata": {},
   "outputs": [
    {
     "name": "stdout",
     "output_type": "stream",
     "text": [
      "Objective value at epoch t=0 is 0.5325085872778154\n",
      "Objective value at epoch t=1 is 0.5176722837386336\n",
      "Objective value at epoch t=2 is 0.5090560039310215\n",
      "Objective value at epoch t=3 is 0.5206868391002529\n",
      "Objective value at epoch t=4 is 0.5109135658993262\n",
      "Objective value at epoch t=5 is 0.5005552873764894\n",
      "Objective value at epoch t=6 is 0.5030796605921075\n",
      "Objective value at epoch t=7 is 0.503220479241507\n",
      "Objective value at epoch t=8 is 0.49910858795097923\n",
      "Objective value at epoch t=9 is 0.5009375976326982\n",
      "Objective value at epoch t=10 is 0.5001594641642616\n",
      "Objective value at epoch t=11 is 0.4933003918753668\n",
      "Objective value at epoch t=12 is 0.4961022070768443\n",
      "Objective value at epoch t=13 is 0.48835127127707245\n",
      "Objective value at epoch t=14 is 0.4891237677859013\n",
      "Objective value at epoch t=15 is 0.4897513446877122\n",
      "Objective value at epoch t=16 is 0.4886947916928747\n",
      "Objective value at epoch t=17 is 0.4877859551410147\n",
      "Objective value at epoch t=18 is 0.4870828834149301\n",
      "Objective value at epoch t=19 is 0.48474205403505904\n",
      "Objective value at epoch t=20 is 0.48382848848485543\n",
      "Objective value at epoch t=21 is 0.48441332081895705\n",
      "Objective value at epoch t=22 is 0.48497327774202226\n",
      "Objective value at epoch t=23 is 0.4831958096509464\n",
      "Objective value at epoch t=24 is 0.4831394149101846\n",
      "Objective value at epoch t=25 is 0.48278193450848833\n",
      "Objective value at epoch t=26 is 0.4821429556430846\n",
      "Objective value at epoch t=27 is 0.4815972309175721\n",
      "Objective value at epoch t=28 is 0.4812035352372656\n",
      "Objective value at epoch t=29 is 0.48061952324343366\n",
      "Objective value at epoch t=30 is 0.4805811538078181\n",
      "Objective value at epoch t=31 is 0.4803498233198814\n",
      "Objective value at epoch t=32 is 0.4801516371115525\n",
      "Objective value at epoch t=33 is 0.4799200857807578\n",
      "Objective value at epoch t=34 is 0.4795776860294648\n",
      "Objective value at epoch t=35 is 0.4795039404224658\n",
      "Objective value at epoch t=36 is 0.47929861880024954\n",
      "Objective value at epoch t=37 is 0.4791700040047465\n",
      "Objective value at epoch t=38 is 0.4790160145644706\n",
      "Objective value at epoch t=39 is 0.4788226342831807\n",
      "Objective value at epoch t=40 is 0.478700834908574\n",
      "Objective value at epoch t=41 is 0.4786513381695296\n",
      "Objective value at epoch t=42 is 0.478551558688561\n",
      "Objective value at epoch t=43 is 0.4784690699268757\n",
      "Objective value at epoch t=44 is 0.478385622737897\n",
      "Objective value at epoch t=45 is 0.47831044901692676\n",
      "Objective value at epoch t=46 is 0.478252187163336\n",
      "Objective value at epoch t=47 is 0.47819204811316807\n",
      "Objective value at epoch t=48 is 0.4781408730546657\n",
      "Objective value at epoch t=49 is 0.47809192992471805\n",
      "Objective value at epoch t=50 is 0.4780537174120714\n",
      "Objective value at epoch t=51 is 0.4780116729491214\n",
      "Objective value at epoch t=52 is 0.477980535556605\n",
      "Objective value at epoch t=53 is 0.47794902228807457\n",
      "Objective value at epoch t=54 is 0.47792116961385683\n",
      "Objective value at epoch t=55 is 0.47789618994879046\n",
      "Objective value at epoch t=56 is 0.4778716581161448\n",
      "Objective value at epoch t=57 is 0.4778529417907939\n",
      "Objective value at epoch t=58 is 0.47783456196257224\n",
      "Objective value at epoch t=59 is 0.4778176696397076\n",
      "Objective value at epoch t=60 is 0.47780274687433033\n",
      "Objective value at epoch t=61 is 0.4777892810779698\n",
      "Objective value at epoch t=62 is 0.4777771751230042\n",
      "Objective value at epoch t=63 is 0.4777662287599004\n",
      "Objective value at epoch t=64 is 0.47775635957005\n",
      "Objective value at epoch t=65 is 0.47774751793183323\n",
      "Objective value at epoch t=66 is 0.47773948608127376\n",
      "Objective value at epoch t=67 is 0.4777323991375728\n",
      "Objective value at epoch t=68 is 0.4777259537846528\n",
      "Objective value at epoch t=69 is 0.4777201597501314\n",
      "Objective value at epoch t=70 is 0.4777149221918675\n",
      "Objective value at epoch t=71 is 0.47771021644473394\n",
      "Objective value at epoch t=72 is 0.4777059814853911\n",
      "Objective value at epoch t=73 is 0.47770219136298947\n",
      "Objective value at epoch t=74 is 0.4776987370695718\n",
      "Objective value at epoch t=75 is 0.4776956435109526\n",
      "Objective value at epoch t=76 is 0.4776928665539164\n",
      "Objective value at epoch t=77 is 0.4776903697639286\n",
      "Objective value at epoch t=78 is 0.47768811239801\n",
      "Objective value at epoch t=79 is 0.47768609015215713\n",
      "Objective value at epoch t=80 is 0.47768425919484675\n",
      "Objective value at epoch t=81 is 0.47768261896963715\n",
      "Objective value at epoch t=82 is 0.477681141302166\n",
      "Objective value at epoch t=83 is 0.47767980932666776\n",
      "Objective value at epoch t=84 is 0.47767860787990857\n",
      "Objective value at epoch t=85 is 0.47767753478924035\n",
      "Objective value at epoch t=86 is 0.4776765644720797\n",
      "Objective value at epoch t=87 is 0.477675691504534\n",
      "Objective value at epoch t=88 is 0.4776749053425465\n",
      "Objective value at epoch t=89 is 0.47767419769583375\n",
      "Objective value at epoch t=90 is 0.4776735604983017\n",
      "Objective value at epoch t=91 is 0.4776729879040717\n",
      "Objective value at epoch t=92 is 0.47767247232819576\n",
      "Objective value at epoch t=93 is 0.47767200809990074\n",
      "Objective value at epoch t=94 is 0.47767159030338985\n",
      "Objective value at epoch t=95 is 0.4776712143889312\n",
      "Objective value at epoch t=96 is 0.47767087575758416\n",
      "Objective value at epoch t=97 is 0.47767057124352946\n",
      "Objective value at epoch t=98 is 0.4776702972936387\n",
      "Objective value at epoch t=99 is 0.47767005057794165\n"
     ]
    }
   ],
   "source": [
    "lam = 1E-6\n",
    "stepsize = 0.1\n",
    "w, objvals_sgd = sgd(x_train, y_train, lam, stepsize)"
   ]
  },
  {
   "cell_type": "markdown",
   "metadata": {},
   "source": [
    "# 4. Compare GD with SGD\n",
    "\n",
    "Plot objective function values against epochs."
   ]
  },
  {
   "cell_type": "code",
   "execution_count": 13,
   "metadata": {},
   "outputs": [
    {
     "name": "stderr",
     "output_type": "stream",
     "text": [
      "<ipython-input-13-9b8d8f4cdfb5>:9: MatplotlibDeprecationWarning: Case-insensitive properties were deprecated in 3.3 and support will be removed two minor releases later\n",
      "  line0, = plt.plot(epochs_gd, objvals_gd, '--b', LineWidth=4)\n",
      "<ipython-input-13-9b8d8f4cdfb5>:10: MatplotlibDeprecationWarning: Case-insensitive properties were deprecated in 3.3 and support will be removed two minor releases later\n",
      "  line1, = plt.plot(epochs_sgd, objvals_sgd, '-r', LineWidth=2)\n",
      "<ipython-input-13-9b8d8f4cdfb5>:11: MatplotlibDeprecationWarning: Case-insensitive properties were deprecated in 3.3 and support will be removed two minor releases later\n",
      "  plt.xlabel('Epochs', FontSize=20)\n",
      "<ipython-input-13-9b8d8f4cdfb5>:12: MatplotlibDeprecationWarning: Case-insensitive properties were deprecated in 3.3 and support will be removed two minor releases later\n",
      "  plt.ylabel('Objective Value', FontSize=20)\n",
      "<ipython-input-13-9b8d8f4cdfb5>:13: MatplotlibDeprecationWarning: Case-insensitive properties were deprecated in 3.3 and support will be removed two minor releases later\n",
      "  plt.xticks(FontSize=16)\n",
      "<ipython-input-13-9b8d8f4cdfb5>:14: MatplotlibDeprecationWarning: Case-insensitive properties were deprecated in 3.3 and support will be removed two minor releases later\n",
      "  plt.yticks(FontSize=16)\n"
     ]
    },
    {
     "data": {
      "image/png": "[encoded data removed]",
      "text/plain": [
       "<Figure size 432x288 with 1 Axes>"
      ]
     },
     "metadata": {
      "needs_background": "light"
     },
     "output_type": "display_data"
    }
   ],
   "source": [
    "import matplotlib.pyplot as plt\n",
    "%matplotlib inline\n",
    "\n",
    "fig = plt.figure(figsize=(6, 4))\n",
    "\n",
    "epochs_gd = range(len(objvals_gd))\n",
    "epochs_sgd = range(len(objvals_sgd))\n",
    "\n",
    "line0, = plt.plot(epochs_gd, objvals_gd, '--b', LineWidth=4)\n",
    "line1, = plt.plot(epochs_sgd, objvals_sgd, '-r', LineWidth=2)\n",
    "plt.xlabel('Epochs', FontSize=20)\n",
    "plt.ylabel('Objective Value', FontSize=20)\n",
    "plt.xticks(FontSize=16)\n",
    "plt.yticks(FontSize=16)\n",
    "plt.legend([line0, line1], ['GD', 'SGD'], fontsize=20)\n",
    "plt.tight_layout()\n",
    "plt.show()\n",
    "fig.savefig('compare_gd_sgd.pdf', format='pdf', dpi=1200)"
   ]
  },
  {
   "cell_type": "markdown",
   "metadata": {},
   "source": [
    "# 5. Prediction"
   ]
  },
  {
   "cell_type": "code",
   "execution_count": 14,
   "metadata": {},
   "outputs": [],
   "source": [
    "# Predict class label\n",
    "# Inputs:\n",
    "#     w: d-by-1 matrix\n",
    "#     X: m-by-d matrix\n",
    "# Return:\n",
    "#     f: m-by-1 matrix, the predictions\n",
    "def predict(w, X):\n",
    "    xw = numpy.dot(X, w)\n",
    "    f = numpy.sign(xw)\n",
    "    return f"
   ]
  },
  {
   "cell_type": "code",
   "execution_count": 15,
   "metadata": {},
   "outputs": [
    {
     "name": "stdout",
     "output_type": "stream",
     "text": [
      "Training classification error is 0.2203125\n"
     ]
    }
   ],
   "source": [
    "# evaluate training error\n",
    "f_train = predict(w, x_train)\n",
    "diff = numpy.abs(f_train - y_train) / 2\n",
    "error_train = numpy.mean(diff)\n",
    "print('Training classification error is ' + str(error_train))"
   ]
  },
  {
   "cell_type": "code",
   "execution_count": 16,
   "metadata": {},
   "outputs": [
    {
     "name": "stdout",
     "output_type": "stream",
     "text": [
      "Test classification error is 0.21875\n"
     ]
    }
   ],
   "source": [
    "# evaluate test error\n",
    "f_test = predict(w, x_test)\n",
    "diff = numpy.abs(f_test - y_test) / 2\n",
    "error_test = numpy.mean(diff)\n",
    "print('Test classification error is ' + str(error_test))"
   ]
  },
  {
   "cell_type": "markdown",
   "metadata": {},
   "source": [
    "# 6. Mini-batch SGD (fill the code)\n",
    "\n"
   ]
  },
  {
   "cell_type": "markdown",
   "metadata": {},
   "source": [
    "## 6.1. Compute the objective $Q_I$ and its gradient using a batch of samples\n",
    "\n",
    "Define $Q_I (w) = \\frac{1}{b} \\sum_{i \\in I} \\log \\Big( 1 + \\exp \\big( - y_i x_i^T w \\big) \\Big) + \\frac{\\lambda}{2} \\| w \\|_2^2 $, where $I$ is a set containing $b$ indices randomly drawn from $\\{ 1, \\cdots , n \\}$ without replacement.\n",
    "\n",
    "The stochastic gradient at $w$ is $g_I = \\frac{\\partial Q_I }{ \\partial w} = \\frac{1}{b} \\sum_{i \\in I} \\frac{- y_i x_i }{1 + \\exp ( y_i x_i^T w)} + \\lambda w$."
   ]
  },
  {
   "cell_type": "code",
   "execution_count": 17,
   "metadata": {},
   "outputs": [],
   "source": [
    "# Calculate the objective Q_I and the gradient of Q_I\n",
    "# Inputs:\n",
    "#     w: d-by-1 matrix\n",
    "#     xi: b-by-d matrix\n",
    "#     yi: b-by-1 matrix\n",
    "#     lam: scalar, the regularization parameter\n",
    "#     b: integer, the batch size\n",
    "# Return:\n",
    "#     obj: scalar, the objective Q_i\n",
    "#     g: d-by-1 matrix, gradient of Q_i\n",
    "def mb_stochastic_objective_gradient(w, xi, yi, lam, b):\n",
    "    # Fill the function\n",
    "    # Follow the implementation of stochastic_objective_gradient\n",
    "    # Use matrix-vector multiplication; do not use FOR LOOP of vector-vector multiplications\n",
    "    n,d = xi.shape\n",
    "    yx = numpy.multiply(yi, xi) # b-by-d matrix\n",
    "    yxw = numpy.dot(yx,w) # b-by-1\n",
    "    \n",
    "    loss = numpy.mean(numpy.log(1+numpy.exp(-yxw))) # scalar\n",
    "    reg = lam/2*numpy.sum(w*w) # scalar\n",
    "    obj = loss+reg\n",
    "    \n",
    "    g_loss = numpy.mean(numpy.divide(-yx, (1 + numpy.exp(yxw))),axis=0).reshape(d,1) # scalar\n",
    "    g = g_loss+ lam*w\n",
    "    \n",
    "    return obj, g"
   ]
  },
  {
   "cell_type": "code",
   "execution_count": null,
   "metadata": {},
   "outputs": [],
   "source": []
  },
  {
   "cell_type": "markdown",
   "metadata": {},
   "source": [
    "## 6.2. Implement mini-batch SGD\n",
    "\n",
    "Hints:\n",
    "1. In every epoch, randomly permute the $n$ samples (just like SGD).\n",
    "2. Each epoch has $\\frac{n}{b}$ iterations. In every iteration, use $b$ samples, and compute the gradient and objective using the ``mb_stochastic_objective_gradient`` function. In the next iteration, use the next $b$ samples, and so on.\n"
   ]
  },
  {
   "cell_type": "code",
   "execution_count": 18,
   "metadata": {},
   "outputs": [],
   "source": [
    "# Mini-Batch SGD for solving logistic regression\n",
    "# Inputs:\n",
    "#     x: n-by-d matrix\n",
    "#     y: n-by-1 matrix\n",
    "#     lam: scalar, the regularization parameter\n",
    "#     b: integer, the batch size\n",
    "#     stepsize: scalar\n",
    "#     max_epoch: integer, the maximal epochs\n",
    "#     w: d-by-1 matrix, initialization of w\n",
    "# Return:\n",
    "#     w: the solution\n",
    "#     objvals: record of each iteration's objective value\n",
    "def mb_sgd(x, y, lam, b, stepsize, max_epoch=100, w=None):\n",
    "    # Fill the function\n",
    "    # Follow the implementation of sgd\n",
    "    # Record one objective value per epoch (not per iteration!)\n",
    "    n, d = x.shape\n",
    "    objvals = numpy.zeros(max_epoch) # store the objective values\n",
    "    if w is None:\n",
    "        w = numpy.zeros((d, 1)) # zero initialization\n",
    "    \n",
    "    for t in range(max_epoch):\n",
    "        # randomly shuffle the samples\n",
    "        rand_indices = numpy.random.permutation(n)\n",
    "        x_rand = x[rand_indices, :]\n",
    "        y_rand = y[rand_indices, :]\n",
    "        \n",
    "        objval = 0 # accumulate the objective values\n",
    "        for i in range(int(n/b)):\n",
    "            if i == 0:\n",
    "                xi = x_rand[0:b, :] # b-by-d matrix\n",
    "                yi = y_rand[0:b, :] # b-by-1 matrix\n",
    "            else:\n",
    "                xi = x_rand[(i-1)*b:i*b, :] # b-by-d matrix\n",
    "                yi = y_rand[(i-1)*b:i*b, :] # b-by-1 matrix\n",
    "            obj, g = mb_stochastic_objective_gradient(w, xi, yi, lam, b)\n",
    "            objval += obj\n",
    "            w -= stepsize * g\n",
    "        \n",
    "        stepsize *= 0.9 # decrease step size\n",
    "        objval /= int(n/b)\n",
    "        objvals[t] = objval\n",
    "        print('Objective value at epoch t=' + str(t) + ' is ' + str(objval))\n",
    "    \n",
    "    return w, objvals"
   ]
  },
  {
   "cell_type": "markdown",
   "metadata": {},
   "source": [
    "## 6.3. Run MB-SGD"
   ]
  },
  {
   "cell_type": "code",
   "execution_count": 19,
   "metadata": {},
   "outputs": [
    {
     "name": "stdout",
     "output_type": "stream",
     "text": [
      "Objective value at epoch t=0 is 0.5397319508839535\n",
      "Objective value at epoch t=1 is 0.4925356081475781\n",
      "Objective value at epoch t=2 is 0.4892864963344392\n",
      "Objective value at epoch t=3 is 0.48709636809837675\n",
      "Objective value at epoch t=4 is 0.4959844544201039\n",
      "Objective value at epoch t=5 is 0.4774744488228527\n",
      "Objective value at epoch t=6 is 0.48530211642580057\n",
      "Objective value at epoch t=7 is 0.4859304788098869\n",
      "Objective value at epoch t=8 is 0.48387942652700533\n",
      "Objective value at epoch t=9 is 0.48066469635599046\n",
      "Objective value at epoch t=10 is 0.4761445913794498\n",
      "Objective value at epoch t=11 is 0.48186660271231363\n",
      "Objective value at epoch t=12 is 0.4806587508491531\n",
      "Objective value at epoch t=13 is 0.4873091121612032\n",
      "Objective value at epoch t=14 is 0.4809331957602881\n",
      "Objective value at epoch t=15 is 0.47695085509975127\n",
      "Objective value at epoch t=16 is 0.4757900607291015\n",
      "Objective value at epoch t=17 is 0.47948357460916\n",
      "Objective value at epoch t=18 is 0.4800347652177545\n",
      "Objective value at epoch t=19 is 0.4793031135864769\n",
      "Objective value at epoch t=20 is 0.47803041085821896\n",
      "Objective value at epoch t=21 is 0.4786656980403354\n",
      "Objective value at epoch t=22 is 0.4815714713827285\n",
      "Objective value at epoch t=23 is 0.4721828382744458\n",
      "Objective value at epoch t=24 is 0.47251838114218786\n",
      "Objective value at epoch t=25 is 0.47502776042589695\n",
      "Objective value at epoch t=26 is 0.4786357244729911\n",
      "Objective value at epoch t=27 is 0.47766961858065626\n",
      "Objective value at epoch t=28 is 0.4801265835387625\n",
      "Objective value at epoch t=29 is 0.48107658536610465\n",
      "Objective value at epoch t=30 is 0.4775303723222691\n",
      "Objective value at epoch t=31 is 0.478274949105146\n",
      "Objective value at epoch t=32 is 0.47903002722541344\n",
      "Objective value at epoch t=33 is 0.4705095076657287\n",
      "Objective value at epoch t=34 is 0.4769563173962313\n",
      "Objective value at epoch t=35 is 0.48181432706169824\n",
      "Objective value at epoch t=36 is 0.4789916013452361\n",
      "Objective value at epoch t=37 is 0.473042193729483\n",
      "Objective value at epoch t=38 is 0.47850040845419306\n",
      "Objective value at epoch t=39 is 0.47454945859204134\n",
      "Objective value at epoch t=40 is 0.4784390948362904\n",
      "Objective value at epoch t=41 is 0.4800579989192587\n",
      "Objective value at epoch t=42 is 0.48125126337217017\n",
      "Objective value at epoch t=43 is 0.47555414825406334\n",
      "Objective value at epoch t=44 is 0.47987392120793526\n",
      "Objective value at epoch t=45 is 0.4772880581719212\n",
      "Objective value at epoch t=46 is 0.4780779890746022\n",
      "Objective value at epoch t=47 is 0.4746921611486724\n",
      "Objective value at epoch t=48 is 0.48016942434663495\n",
      "Objective value at epoch t=49 is 0.47433028913757613\n",
      "Objective value at epoch t=50 is 0.4777044604230866\n",
      "Objective value at epoch t=51 is 0.4800011422692256\n",
      "Objective value at epoch t=52 is 0.48364568119188417\n",
      "Objective value at epoch t=53 is 0.47940924555852077\n",
      "Objective value at epoch t=54 is 0.4826390950699677\n",
      "Objective value at epoch t=55 is 0.4754413317427728\n",
      "Objective value at epoch t=56 is 0.4766321052484977\n",
      "Objective value at epoch t=57 is 0.4773531076718093\n",
      "Objective value at epoch t=58 is 0.4775908937106143\n",
      "Objective value at epoch t=59 is 0.4740297913528596\n",
      "Objective value at epoch t=60 is 0.48247625729192245\n",
      "Objective value at epoch t=61 is 0.47353398849352046\n",
      "Objective value at epoch t=62 is 0.4743406075435653\n",
      "Objective value at epoch t=63 is 0.4698874121510432\n",
      "Objective value at epoch t=64 is 0.47711819329049937\n",
      "Objective value at epoch t=65 is 0.47759581000815254\n",
      "Objective value at epoch t=66 is 0.4671967882189967\n",
      "Objective value at epoch t=67 is 0.46564628668679575\n",
      "Objective value at epoch t=68 is 0.4765822076424643\n",
      "Objective value at epoch t=69 is 0.47456976382633187\n",
      "Objective value at epoch t=70 is 0.47524210223927554\n",
      "Objective value at epoch t=71 is 0.480434197984446\n",
      "Objective value at epoch t=72 is 0.4769539877497956\n",
      "Objective value at epoch t=73 is 0.47418436130670105\n",
      "Objective value at epoch t=74 is 0.4658475113122832\n",
      "Objective value at epoch t=75 is 0.4750777429932519\n",
      "Objective value at epoch t=76 is 0.4693326000892233\n",
      "Objective value at epoch t=77 is 0.4752587092553309\n",
      "Objective value at epoch t=78 is 0.4754868018895403\n",
      "Objective value at epoch t=79 is 0.47839183437717886\n",
      "Objective value at epoch t=80 is 0.47672006058673133\n",
      "Objective value at epoch t=81 is 0.47495398070252826\n",
      "Objective value at epoch t=82 is 0.48220967835293216\n",
      "Objective value at epoch t=83 is 0.4819026154984433\n",
      "Objective value at epoch t=84 is 0.47692365011737364\n",
      "Objective value at epoch t=85 is 0.4715444588679912\n",
      "Objective value at epoch t=86 is 0.47919815155763895\n",
      "Objective value at epoch t=87 is 0.4752783268706131\n",
      "Objective value at epoch t=88 is 0.4782009232345703\n",
      "Objective value at epoch t=89 is 0.46967285905440087\n",
      "Objective value at epoch t=90 is 0.47769115636698495\n",
      "Objective value at epoch t=91 is 0.4773704301285653\n",
      "Objective value at epoch t=92 is 0.4859617089430639\n",
      "Objective value at epoch t=93 is 0.48059410422956006\n",
      "Objective value at epoch t=94 is 0.4763691954247915\n",
      "Objective value at epoch t=95 is 0.47756448513434274\n",
      "Objective value at epoch t=96 is 0.47884529179260654\n",
      "Objective value at epoch t=97 is 0.47620332481842187\n",
      "Objective value at epoch t=98 is 0.4771768693967958\n",
      "Objective value at epoch t=99 is 0.4725522573588372\n"
     ]
    }
   ],
   "source": [
    "# MB-SGD with batch size b=8\n",
    "lam = 1E-6 # do not change\n",
    "b = 8 # do not change\n",
    "stepsize = 0.15 # you must tune this parameter\n",
    "\n",
    "w, objvals_mbsgd8 = mb_sgd(x_train, y_train, lam, b, stepsize)"
   ]
  },
  {
   "cell_type": "code",
   "execution_count": 20,
   "metadata": {},
   "outputs": [
    {
     "name": "stdout",
     "output_type": "stream",
     "text": [
      "Objective value at epoch t=0 is 0.6125772426672583\n",
      "Objective value at epoch t=1 is 0.517238808450138\n",
      "Objective value at epoch t=2 is 0.5106242003385879\n",
      "Objective value at epoch t=3 is 0.5003852436876762\n",
      "Objective value at epoch t=4 is 0.4943745552102004\n",
      "Objective value at epoch t=5 is 0.5058450892240551\n",
      "Objective value at epoch t=6 is 0.48681661006200655\n",
      "Objective value at epoch t=7 is 0.4692669071442676\n",
      "Objective value at epoch t=8 is 0.46859483689214587\n",
      "Objective value at epoch t=9 is 0.47862725711801446\n",
      "Objective value at epoch t=10 is 0.47945388669415384\n",
      "Objective value at epoch t=11 is 0.48323622781735287\n",
      "Objective value at epoch t=12 is 0.48290417966813903\n",
      "Objective value at epoch t=13 is 0.4875490943521135\n",
      "Objective value at epoch t=14 is 0.4634538912215107\n",
      "Objective value at epoch t=15 is 0.48396266380231323\n",
      "Objective value at epoch t=16 is 0.49550197533371654\n",
      "Objective value at epoch t=17 is 0.4687767777050861\n",
      "Objective value at epoch t=18 is 0.48556889341845205\n",
      "Objective value at epoch t=19 is 0.48504928320084445\n",
      "Objective value at epoch t=20 is 0.4793112652046016\n",
      "Objective value at epoch t=21 is 0.4982006407518771\n",
      "Objective value at epoch t=22 is 0.47818991529337646\n",
      "Objective value at epoch t=23 is 0.48233708684085014\n",
      "Objective value at epoch t=24 is 0.488998063200052\n",
      "Objective value at epoch t=25 is 0.481646538427918\n",
      "Objective value at epoch t=26 is 0.4691053962685238\n",
      "Objective value at epoch t=27 is 0.4832154928825857\n",
      "Objective value at epoch t=28 is 0.4817613312817923\n",
      "Objective value at epoch t=29 is 0.48511433834850387\n",
      "Objective value at epoch t=30 is 0.48117626374033884\n",
      "Objective value at epoch t=31 is 0.48264742121802895\n",
      "Objective value at epoch t=32 is 0.48437112601353727\n",
      "Objective value at epoch t=33 is 0.4679442500794496\n",
      "Objective value at epoch t=34 is 0.4699173605150192\n",
      "Objective value at epoch t=35 is 0.4967784847793257\n",
      "Objective value at epoch t=36 is 0.48291952159832324\n",
      "Objective value at epoch t=37 is 0.4847956837526296\n",
      "Objective value at epoch t=38 is 0.4966554338246808\n",
      "Objective value at epoch t=39 is 0.4865821154220192\n",
      "Objective value at epoch t=40 is 0.48712176189086803\n",
      "Objective value at epoch t=41 is 0.46144434226716546\n",
      "Objective value at epoch t=42 is 0.46700259747000994\n",
      "Objective value at epoch t=43 is 0.47470751953950857\n",
      "Objective value at epoch t=44 is 0.48994336028505375\n",
      "Objective value at epoch t=45 is 0.46765933057287956\n",
      "Objective value at epoch t=46 is 0.4758992324654649\n",
      "Objective value at epoch t=47 is 0.485521964920148\n",
      "Objective value at epoch t=48 is 0.4835603134467714\n",
      "Objective value at epoch t=49 is 0.47835910583302976\n",
      "Objective value at epoch t=50 is 0.47592519066002054\n",
      "Objective value at epoch t=51 is 0.4780007701373784\n",
      "Objective value at epoch t=52 is 0.48286123246010026\n",
      "Objective value at epoch t=53 is 0.47623851059628386\n",
      "Objective value at epoch t=54 is 0.47752881614815657\n",
      "Objective value at epoch t=55 is 0.4913793649826138\n",
      "Objective value at epoch t=56 is 0.4701834382083533\n",
      "Objective value at epoch t=57 is 0.46140927401447884\n",
      "Objective value at epoch t=58 is 0.4893811570155727\n",
      "Objective value at epoch t=59 is 0.47803522999950376\n",
      "Objective value at epoch t=60 is 0.4699337464015699\n",
      "Objective value at epoch t=61 is 0.4727633490130311\n",
      "Objective value at epoch t=62 is 0.47335276594047937\n",
      "Objective value at epoch t=63 is 0.47080761140402905\n",
      "Objective value at epoch t=64 is 0.4709880841365933\n",
      "Objective value at epoch t=65 is 0.4853069404139774\n",
      "Objective value at epoch t=66 is 0.45960879065127\n",
      "Objective value at epoch t=67 is 0.5116657642215886\n",
      "Objective value at epoch t=68 is 0.4838713534376013\n",
      "Objective value at epoch t=69 is 0.4755378801339332\n",
      "Objective value at epoch t=70 is 0.48092015697757223\n",
      "Objective value at epoch t=71 is 0.4849216610119912\n",
      "Objective value at epoch t=72 is 0.4748719853042644\n",
      "Objective value at epoch t=73 is 0.46437996464132925\n",
      "Objective value at epoch t=74 is 0.48957959336318135\n",
      "Objective value at epoch t=75 is 0.47742620871943975\n",
      "Objective value at epoch t=76 is 0.48841558350834946\n",
      "Objective value at epoch t=77 is 0.48109909089738984\n",
      "Objective value at epoch t=78 is 0.48630264911657156\n",
      "Objective value at epoch t=79 is 0.4842453020268983\n",
      "Objective value at epoch t=80 is 0.48977400642053864\n",
      "Objective value at epoch t=81 is 0.4776529612873346\n",
      "Objective value at epoch t=82 is 0.4753872378822348\n",
      "Objective value at epoch t=83 is 0.476477464511835\n",
      "Objective value at epoch t=84 is 0.47223278080582975\n",
      "Objective value at epoch t=85 is 0.48028459497986437\n",
      "Objective value at epoch t=86 is 0.4864955284897423\n",
      "Objective value at epoch t=87 is 0.4758258047887184\n",
      "Objective value at epoch t=88 is 0.48142307661140454\n",
      "Objective value at epoch t=89 is 0.48473397753681036\n",
      "Objective value at epoch t=90 is 0.4761984618050323\n",
      "Objective value at epoch t=91 is 0.46045488509879207\n",
      "Objective value at epoch t=92 is 0.4711377448671036\n",
      "Objective value at epoch t=93 is 0.4854223400844749\n",
      "Objective value at epoch t=94 is 0.46175937370497283\n",
      "Objective value at epoch t=95 is 0.47493295990701345\n",
      "Objective value at epoch t=96 is 0.481007505187971\n",
      "Objective value at epoch t=97 is 0.4775935111343818\n",
      "Objective value at epoch t=98 is 0.4977846694779572\n",
      "Objective value at epoch t=99 is 0.4747220798021904\n"
     ]
    }
   ],
   "source": [
    "# MB-SGD with batch size b=64\n",
    "lam = 1E-6 # do not change\n",
    "b = 64 # do not change\n",
    "stepsize = 0.25 # you must tune this parameter\n",
    "\n",
    "w, objvals_mbsgd64 = mb_sgd(x_train, y_train, lam, b, stepsize)"
   ]
  },
  {
   "cell_type": "markdown",
   "metadata": {},
   "source": [
    "# 7. Plot and compare GD, SGD, and MB-SGD"
   ]
  },
  {
   "cell_type": "markdown",
   "metadata": {},
   "source": [
    "You are required to compare the following algorithms:\n",
    "\n",
    "- Gradient descent (GD)\n",
    "\n",
    "- SGD\n",
    "\n",
    "- MB-SGD with b=8\n",
    "\n",
    "- MB-SGD with b=64\n",
    "\n",
    "Follow the code in Section 4 to plot ```objective function value``` against ```epochs```. There should be four curves in the plot; each curve corresponds to one algorithm."
   ]
  },
  {
   "cell_type": "markdown",
   "metadata": {},
   "source": [
    "Hint: Logistic regression with $\\ell_2$-norm regularization is a strongly convex optimization problem. All the algorithms will converge to the same solution. **In the end, the ``objective function value`` of the 4 algorithms will be the same. If not the same, your implementation must be wrong. Do NOT submit wrong code and wrong result!**"
   ]
  },
  {
   "cell_type": "code",
   "execution_count": 21,
   "metadata": {},
   "outputs": [],
   "source": [
    "# plot the 4 curves:"
   ]
  },
  {
   "cell_type": "code",
   "execution_count": 22,
   "metadata": {},
   "outputs": [
    {
     "name": "stderr",
     "output_type": "stream",
     "text": [
      "<ipython-input-22-f34c21b12f69>:11: MatplotlibDeprecationWarning: Case-insensitive properties were deprecated in 3.3 and support will be removed two minor releases later\n",
      "  line0, = plt.plot(epochs_gd, objvals_gd, '--b', LineWidth=4)\n",
      "<ipython-input-22-f34c21b12f69>:12: MatplotlibDeprecationWarning: Case-insensitive properties were deprecated in 3.3 and support will be removed two minor releases later\n",
      "  line1, = plt.plot(epochs_sgd, objvals_sgd, '-r', LineWidth=2)\n",
      "<ipython-input-22-f34c21b12f69>:13: MatplotlibDeprecationWarning: Case-insensitive properties were deprecated in 3.3 and support will be removed two minor releases later\n",
      "  line2, = plt.plot(epochs_mbsgd8, objvals_mbsgd8, '--g', LineWidth=2)\n",
      "<ipython-input-22-f34c21b12f69>:14: MatplotlibDeprecationWarning: Case-insensitive properties were deprecated in 3.3 and support will be removed two minor releases later\n",
      "  line3, = plt.plot(epochs_mgsgd64, objvals_mbsgd64, '-y', LineWidth=2)\n",
      "<ipython-input-22-f34c21b12f69>:16: MatplotlibDeprecationWarning: Case-insensitive properties were deprecated in 3.3 and support will be removed two minor releases later\n",
      "  plt.xlabel('Epochs', FontSize=20)\n",
      "<ipython-input-22-f34c21b12f69>:17: MatplotlibDeprecationWarning: Case-insensitive properties were deprecated in 3.3 and support will be removed two minor releases later\n",
      "  plt.ylabel('Objective Value', FontSize=20)\n",
      "<ipython-input-22-f34c21b12f69>:18: MatplotlibDeprecationWarning: Case-insensitive properties were deprecated in 3.3 and support will be removed two minor releases later\n",
      "  plt.xticks(FontSize=16)\n",
      "<ipython-input-22-f34c21b12f69>:19: MatplotlibDeprecationWarning: Case-insensitive properties were deprecated in 3.3 and support will be removed two minor releases later\n",
      "  plt.yticks(FontSize=16)\n"
     ]
    },
    {
     "data": {
      "image/png": "[encoded data removed]",
      "text/plain": [
       "<Figure size 720x576 with 1 Axes>"
      ]
     },
     "metadata": {
      "needs_background": "light"
     },
     "output_type": "display_data"
    }
   ],
   "source": [
    "import matplotlib.pyplot as plt\n",
    "%matplotlib inline\n",
    "\n",
    "fig = plt.figure(figsize=(10, 8))\n",
    "\n",
    "epochs_gd = range(len(objvals_gd))\n",
    "epochs_sgd = range(len(objvals_sgd))\n",
    "epochs_mbsgd8 = range(len(objvals_mbsgd8))\n",
    "epochs_mgsgd64 = range(len(objvals_mbsgd64))\n",
    "\n",
    "line0, = plt.plot(epochs_gd, objvals_gd, '--b', LineWidth=4)\n",
    "line1, = plt.plot(epochs_sgd, objvals_sgd, '-r', LineWidth=2)\n",
    "line2, = plt.plot(epochs_mbsgd8, objvals_mbsgd8, '--g', LineWidth=2)\n",
    "line3, = plt.plot(epochs_mgsgd64, objvals_mbsgd64, '-y', LineWidth=2)\n",
    "\n",
    "plt.xlabel('Epochs', FontSize=20)\n",
    "plt.ylabel('Objective Value', FontSize=20)\n",
    "plt.xticks(FontSize=16)\n",
    "plt.yticks(FontSize=16)\n",
    "plt.legend([line0, line1,line2,line3], ['GD', 'SGD','MBSGD,b=8','MBSGD,b=64'], fontsize=20)\n",
    "plt.tight_layout()\n",
    "plt.show()\n",
    "fig.savefig('compare_gd_sgd_mbsgd.pdf', format='pdf', dpi=1200)"
   ]
  },
  {
   "cell_type": "code",
   "execution_count": null,
   "metadata": {},
   "outputs": [],
   "source": []
  }
 ],
 "metadata": {
  "kernelspec": {
   "display_name": "Python 3",
   "language": "python",
   "name": "python3"
  },
  "language_info": {
   "codemirror_mode": {
    "name": "ipython",
    "version": 3
   },
   "file_extension": ".py",
   "mimetype": "text/x-python",
   "name": "python",
   "nbconvert_exporter": "python",
   "pygments_lexer": "ipython3",
   "version": "3.8.5"
  }
 },
 "nbformat": 4,
 "nbformat_minor": 4
}
